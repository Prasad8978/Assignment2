{
 "cells": [
  {
   "cell_type": "markdown",
   "id": "f872311d",
   "metadata": {},
   "source": [
    "## Write a Python program ---->\n",
    "\n",
    "\n",
    "\n",
    "step 1: create a list L1 = [1,2,3,4,5]\n",
    "\n",
    "\n",
    "\n",
    "step 2 : use L1 to make a list of tuples like below:\n",
    "\n",
    "\n",
    "    \n",
    "\n",
    "        \n",
    "    \n",
    "    \n",
    "    \n",
    "   \n"
   ]
  },
  {
   "cell_type": "code",
   "execution_count": 63,
   "id": "d9e20444",
   "metadata": {},
   "outputs": [
    {
     "name": "stdout",
     "output_type": "stream",
     "text": [
      "[(1, 1), (2, 4), (3, 9), (4, 16), (5, 25)]\n"
     ]
    }
   ],
   "source": [
    "l3 = [1,2,3,4,5]\n",
    "l5 = []\n",
    "for i in l3:\n",
    "    l4 = []\n",
    "    l4 += [i,i**2]\n",
    "    l5.append(tuple(l4))\n",
    "print(l5)"
   ]
  },
  {
   "cell_type": "markdown",
   "id": "1527ddc6",
   "metadata": {},
   "source": [
    "### Write a Python program to print a dictionary whose keys should be the alphabet from a-z and the value should be corresponding ASCII values\n",
    "\n",
    "\n"
   ]
  },
  {
   "cell_type": "code",
   "execution_count": 121,
   "id": "8e96b181",
   "metadata": {},
   "outputs": [
    {
     "name": "stdout",
     "output_type": "stream",
     "text": [
      "{'a': 97, 'b': 98, 'c': 99, 'd': 100, 'e': 101, 'f': 102, 'g': 103, 'h': 104, 'i': 105, 'j': 106, 'k': 107, 'l': 108, 'm': 109, 'n': 110, 'o': 111, 'p': 112, 'q': 113, 'r': 114, 's': 115, 't': 116, 'u': 117, 'v': 118, 'w': 119, 'x': 120, 'y': 121, 'z': 122}\n"
     ]
    }
   ],
   "source": [
    "list2 = []\n",
    "for i in range(ord('a'),ord('z')+1):\n",
    "    list1 = []\n",
    "    list1 += [chr(i),i]\n",
    "    list2.append(list1)\n",
    "print(dict(list2))\n",
    "    \n"
   ]
  },
  {
   "cell_type": "code",
   "execution_count": null,
   "id": "81b2b6c9",
   "metadata": {},
   "outputs": [],
   "source": []
  }
 ],
 "metadata": {
  "kernelspec": {
   "display_name": "Python 3 (ipykernel)",
   "language": "python",
   "name": "python3"
  },
  "language_info": {
   "codemirror_mode": {
    "name": "ipython",
    "version": 3
   },
   "file_extension": ".py",
   "mimetype": "text/x-python",
   "name": "python",
   "nbconvert_exporter": "python",
   "pygments_lexer": "ipython3",
   "version": "3.10.0"
  }
 },
 "nbformat": 4,
 "nbformat_minor": 5
}
